{
 "metadata": {
  "name": "",
  "signature": "sha256:d3bf63f5dfc10021ca491f1a6c8555c8269eaaa60d0e4b07895f62633376ccd1"
 },
 "nbformat": 3,
 "nbformat_minor": 0,
 "worksheets": [
  {
   "cells": [
    {
     "cell_type": "code",
     "collapsed": false,
     "input": [
      "import os\n",
      "\n",
      "import math\n",
      "import pandas as pd\n",
      "import numpy as np\n",
      "\n",
      "ospj = os.path.join"
     ],
     "language": "python",
     "metadata": {},
     "outputs": []
    },
    {
     "cell_type": "code",
     "collapsed": false,
     "input": [
      "PROJ_DIR = '/Users/max/Downloads/'"
     ],
     "language": "python",
     "metadata": {},
     "outputs": []
    },
    {
     "cell_type": "code",
     "collapsed": false,
     "input": [
      "plots = pd.read_csv(ospj(PROJ_DIR, \"ME_PLOT.CSV\"), low_memory=False)\n",
      "trees = pd.read_csv(ospj(PROJ_DIR, \"ME_TREE.CSV\"), low_memory=False)\n",
      "tree_key = pd.read_csv(ospj(PROJ_DIR, \"REF_SPECIES.CSV\"))"
     ],
     "language": "python",
     "metadata": {},
     "outputs": []
    },
    {
     "cell_type": "code",
     "collapsed": false,
     "input": [
      "trees.head()"
     ],
     "language": "python",
     "metadata": {},
     "outputs": []
    },
    {
     "cell_type": "code",
     "collapsed": false,
     "input": [
      "sorted(trees.columns.values)"
     ],
     "language": "python",
     "metadata": {},
     "outputs": []
    },
    {
     "cell_type": "code",
     "collapsed": false,
     "input": [
      "plots.head()"
     ],
     "language": "python",
     "metadata": {},
     "outputs": []
    },
    {
     "cell_type": "code",
     "collapsed": false,
     "input": [
      "sorted(plots.columns.values)"
     ],
     "language": "python",
     "metadata": {},
     "outputs": []
    },
    {
     "cell_type": "code",
     "collapsed": false,
     "input": [
      "important = pd.value_counts(trees[\"SPCD\"])"
     ],
     "language": "python",
     "metadata": {},
     "outputs": []
    },
    {
     "cell_type": "code",
     "collapsed": false,
     "input": [
      "important.head()"
     ],
     "language": "python",
     "metadata": {},
     "outputs": []
    },
    {
     "cell_type": "code",
     "collapsed": false,
     "input": [
      "important.sort(axis=1, ascending=False)"
     ],
     "language": "python",
     "metadata": {},
     "outputs": []
    },
    {
     "cell_type": "code",
     "collapsed": false,
     "input": [
      "important.head()"
     ],
     "language": "python",
     "metadata": {},
     "outputs": []
    },
    {
     "cell_type": "code",
     "collapsed": false,
     "input": [
      "top20 = important[:20]"
     ],
     "language": "python",
     "metadata": {},
     "outputs": []
    },
    {
     "cell_type": "code",
     "collapsed": false,
     "input": [
      "tree_key.columns.values"
     ],
     "language": "python",
     "metadata": {},
     "outputs": []
    },
    {
     "cell_type": "code",
     "collapsed": false,
     "input": [
      "top20.index"
     ],
     "language": "python",
     "metadata": {},
     "outputs": []
    },
    {
     "cell_type": "code",
     "collapsed": false,
     "input": [
      "for cd in top20.index:\n",
      "    print cd"
     ],
     "language": "python",
     "metadata": {},
     "outputs": []
    },
    {
     "cell_type": "code",
     "collapsed": false,
     "input": [
      "plot_expansions = "
     ],
     "language": "python",
     "metadata": {},
     "outputs": []
    },
    {
     "cell_type": "code",
     "collapsed": false,
     "input": [
      "len(plotgrouped.groups)"
     ],
     "language": "python",
     "metadata": {},
     "outputs": []
    },
    {
     "cell_type": "code",
     "collapsed": false,
     "input": [
      "len(plots)"
     ],
     "language": "python",
     "metadata": {},
     "outputs": []
    },
    {
     "cell_type": "code",
     "collapsed": false,
     "input": [
      "def sppStats(trees_df, species):\n",
      "    \"\"\"\n",
      "    Calculate importance valuess for the listed species \n",
      "    \"\"\"\n",
      "    \n",
      "    return stats"
     ],
     "language": "python",
     "metadata": {},
     "outputs": []
    },
    {
     "cell_type": "code",
     "collapsed": false,
     "input": [
      "def plotStats(trees_df, top_20_species):\n",
      "    \"\"\"\n",
      "    For each plot, we need to calculate:\n",
      "        Basal area per acre\n",
      "        Trees per acre\n",
      "        Importance values for top 20 species\n",
      "    Return a dictionary with:\n",
      "    {\n",
      "        'tpa': x,\n",
      "        'bapa': x,\n",
      "        'imp-<spid>': x,\n",
      "        ...\n",
      "    }\n",
      "    \"\"\"\n",
      "    trees_df = trees_df[~pd.isnull(trees_df['DIA'])]\n",
      "    stats = {\n",
      "        'tpa': sum(trees_df['TPA_UNADJ']),\n",
      "        'bapa': sum([(math.pi * (row['DIA'] / 2.0)**2) * row['TPA_UNADJ'] for _, row in trees_df.iterrows()])\n",
      "    }\n",
      "    stats.update(sppStats(trees_df, top_20_species))\n",
      "    return stats"
     ],
     "language": "python",
     "metadata": {},
     "outputs": []
    },
    {
     "cell_type": "code",
     "collapsed": false,
     "input": [
      "plotgrouped = trees.groupby('PLT_CN')"
     ],
     "language": "python",
     "metadata": {},
     "outputs": []
    },
    {
     "cell_type": "code",
     "collapsed": false,
     "input": [
      "plotStats(group, [])"
     ],
     "language": "python",
     "metadata": {},
     "outputs": []
    },
    {
     "cell_type": "code",
     "collapsed": false,
     "input": [],
     "language": "python",
     "metadata": {},
     "outputs": []
    }
   ],
   "metadata": {}
  }
 ]
}