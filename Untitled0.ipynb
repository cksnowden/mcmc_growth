{
 "metadata": {
  "name": "",
  "signature": "sha256:2a37c996909de416c167fcfd58856bde0068cd4ab79faace1f80c14e70b03435"
 },
 "nbformat": 3,
 "nbformat_minor": 0,
 "worksheets": [
  {
   "cells": [
    {
     "cell_type": "code",
     "collapsed": false,
     "input": [
      "import pandas as pd\n",
      "import numpy as np"
     ],
     "language": "python",
     "metadata": {},
     "outputs": []
    },
    {
     "cell_type": "code",
     "collapsed": false,
     "input": [
      "trees = pd.read_csv(\"/Users/carolinesnowden/Downloads/ME_TREE.CSV\", low_memory=False)"
     ],
     "language": "python",
     "metadata": {},
     "outputs": []
    },
    {
     "cell_type": "code",
     "collapsed": false,
     "input": [
      "trees.head()"
     ],
     "language": "python",
     "metadata": {},
     "outputs": []
    },
    {
     "cell_type": "code",
     "collapsed": false,
     "input": [
      "!ls -lh /Users/carolinesnowden/Downloads/ME_TREE.CSV"
     ],
     "language": "python",
     "metadata": {},
     "outputs": []
    },
    {
     "cell_type": "code",
     "collapsed": false,
     "input": [
      "tree_key = pd.read_csv(\"/Users/carolinesnowden/Downloads/REF_SPECIES.CSV\")"
     ],
     "language": "python",
     "metadata": {},
     "outputs": []
    },
    {
     "cell_type": "code",
     "collapsed": false,
     "input": [
      "sorted(trees.columns.values)"
     ],
     "language": "python",
     "metadata": {},
     "outputs": []
    },
    {
     "cell_type": "code",
     "collapsed": false,
     "input": [
      "plots = pd.read_csv(\"/Users/carolinesnowden/Downloads/ME_PLOT.CSV\", low_memory=False)"
     ],
     "language": "python",
     "metadata": {},
     "outputs": []
    },
    {
     "cell_type": "code",
     "collapsed": false,
     "input": [
      "plots.head()"
     ],
     "language": "python",
     "metadata": {},
     "outputs": []
    },
    {
     "cell_type": "code",
     "collapsed": false,
     "input": [
      "sorted(plots.columns.values)"
     ],
     "language": "python",
     "metadata": {},
     "outputs": []
    },
    {
     "cell_type": "code",
     "collapsed": false,
     "input": [
      "plots[\"SAMP_METHOD_CD\"][:50]"
     ],
     "language": "python",
     "metadata": {},
     "outputs": []
    },
    {
     "cell_type": "code",
     "collapsed": false,
     "input": [
      "important = pd.value_counts(trees[\"SPCD\"])"
     ],
     "language": "python",
     "metadata": {},
     "outputs": []
    },
    {
     "cell_type": "code",
     "collapsed": false,
     "input": [
      "important.head()"
     ],
     "language": "python",
     "metadata": {},
     "outputs": []
    },
    {
     "cell_type": "code",
     "collapsed": false,
     "input": [
      "important.sort(axis=1, ascending=False)"
     ],
     "language": "python",
     "metadata": {},
     "outputs": []
    },
    {
     "cell_type": "code",
     "collapsed": false,
     "input": [
      "important.head()"
     ],
     "language": "python",
     "metadata": {},
     "outputs": []
    },
    {
     "cell_type": "code",
     "collapsed": false,
     "input": [
      "important[:21]"
     ],
     "language": "python",
     "metadata": {},
     "outputs": []
    },
    {
     "cell_type": "code",
     "collapsed": false,
     "input": [
      "top20 = important[:20]"
     ],
     "language": "python",
     "metadata": {},
     "outputs": []
    },
    {
     "cell_type": "code",
     "collapsed": false,
     "input": [
      "tree_key.columns.values"
     ],
     "language": "python",
     "metadata": {},
     "outputs": []
    },
    {
     "cell_type": "code",
     "collapsed": false,
     "input": [
      "top20.index"
     ],
     "language": "python",
     "metadata": {},
     "outputs": []
    },
    {
     "cell_type": "code",
     "collapsed": false,
     "input": [
      "for cd in top20.index: print cd"
     ],
     "language": "python",
     "metadata": {},
     "outputs": []
    },
    {
     "cell_type": "raw",
     "metadata": {},
     "source": []
    },
    {
     "cell_type": "code",
     "collapsed": false,
     "input": [
      "plotgrouped = trees.groupby('PLOT')\n",
      "plotcount = len(plotgrouped) #num of plots\n",
      "df = pd.DataFrame()\n",
      "species = trees['SPCD']\n",
      "diam = trees['DIA']\n",
      "alltpas = trees['TPA_UNADJ']\n",
      "bigindex = np.append(top20.index.values,['BA','TPA'])\n",
      "print bigindex\n",
      "#\n",
      "# go through each plot\n",
      "for name, group in plotgrouped:\n",
      "    #print name\n",
      "    #print group\n",
      "    totalba = 0 # total basal area in given plot\n",
      "    numtrees = len(group) # num of trees in plot\n",
      "    plot = pd.Series(index = bigindex) #plot comparison criteria\n",
      "    balist = pd.Series(index = top20.index)\n",
      "    freqlist = pd.Series(index = top20.index)\n",
      "    indivlist = pd.Series(index = top20.index)\n",
      "   # importance = pd.DataFrame(index = top20.index, columns=['BA','Frequency','Individuals'])\n",
      "    subgrouped = group.groupby('SUBP')\n",
      "    subcount = pd.Series(index = top20.index) #subgroup counter\n",
      "    #\n",
      "    #go through subgroups to get frequency count\n",
      "    #\n",
      "    for name, subgroup in subgrouped:\n",
      "        #print name\n",
      "        foundtree = pd.Series([False]*20, index = top20.index) #memory of trees found in plot\n",
      "        for tree in subgroup.index.values:\n",
      "            #print species[tree]\n",
      "            if species[tree] in top20.index.values:\n",
      "                foundtree[species[tree]] = True #that tree is in the subplot\n",
      "        for tree in foundtree.index:\n",
      "            if foundtree[tree]: #if that tree is in the plot\n",
      "                subcount[tree] += 1  #num of subplots with that tree increases\n",
      "                freqlist[tree]= subcount[tree]\n",
      "    subnum = len(subgrouped) #num of subgroups\n",
      "    #\n",
      "    #go through trees to get individual counts\n",
      "    #\n",
      "    tpa = 0 #set tpa here-- is there a way to do this only once?\n",
      "    for tree in group.index.values:\n",
      "        if species[tree] in top20.index.values:\n",
      "          #  importance[species[tree], 'Individuals'] += 1\n",
      "            indivlist[species[tree]] += 1\n",
      "            rad = 0.5 * diam[tree]\n",
      "            ba = 2 * 3.14159 * rad**2\n",
      "            balist[species[tree]] += ba\n",
      "           # importance[species[tree],'BA'] += ba\n",
      "        tpa = alltpas[tree]\n",
      "    c = tpa/numtrees #conversion factor\n",
      "    for tree in top20.index:\n",
      "        #freq = importance[tree, 'Frequency']/subnum\n",
      "        freq = freqlist[tree]/subnum\n",
      "        #indiv = importance[tree, 'Individuals']*c\n",
      "        indiv = indivlist[tree]*c\n",
      "        #basarea = importance[tree,'BA']*c\n",
      "        basarea = balist[tree]*c\n",
      "        totalba += basarea\n",
      "        plot[str(tree)] = 100*(freq + indiv + basarea)\n",
      "    plot['BA'] = totalba\n",
      "    plot['TPA'] = tpa\n",
      "df = concat(df, plot) #add plot details to whole df"
     ],
     "language": "python",
     "metadata": {},
     "outputs": []
    },
    {
     "cell_type": "code",
     "collapsed": false,
     "input": [],
     "language": "python",
     "metadata": {},
     "outputs": []
    },
    {
     "cell_type": "code",
     "collapsed": false,
     "input": [],
     "language": "python",
     "metadata": {},
     "outputs": []
    }
   ],
   "metadata": {}
  }
 ]
}